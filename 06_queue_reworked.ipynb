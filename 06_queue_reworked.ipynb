{
 "cells": [
  {
   "cell_type": "markdown",
   "metadata": {},
   "source": [
    "# Task - your implementation of a queue\n",
    "\n",
    "Write a class Queue, which will be implemented as a doubly linked list. Do not import any packages. Expected behaviour is the same as the behaviour of a Queue shown in the lab notebook.\n",
    "\n",
    "![image](img/oop_06.png)\n"
   ]
  },
  {
   "cell_type": "markdown",
   "metadata": {},
   "source": [
    "## class structure:"
   ]
  },
  {
   "cell_type": "code",
   "execution_count": 5,
   "metadata": {},
   "outputs": [],
   "source": [
    "# Doufam ze jsem spravne pochopil \\ \n",
    "# pojem stejne chovani jako v notebooku ze cviceni\n",
    "class Queue:\n",
    "    def __init__(self, maxsize=10):\n",
    "        self.head = None\n",
    "        self.tail = None\n",
    "        self.maxsize = maxsize\n",
    "    \n",
    "    def put(self, data):\n",
    "        # Put data in a queue\n",
    "        # First, see if the queue is full\n",
    "        if self.full():\n",
    "            print(\"Full queue\")\n",
    "            return\n",
    "        \n",
    "        # Second, write the data into a new Node\n",
    "        new_tail = Node(data)\n",
    "        if self.empty(): # Empty queue -> head == tail\n",
    "            self.head = new_tail\n",
    "            self.tail = new_tail           \n",
    "        else:\n",
    "            new_tail.previous = self.tail\n",
    "            self.tail.next = new_tail\n",
    "            self.tail = new_tail\n",
    "        \n",
    "    def get(self):\n",
    "        # Get data from a queue\n",
    "        if self.empty():\n",
    "            print(\"No data in queue\")\n",
    "        else:\n",
    "            ret = self.head\n",
    "            self.head = self.head.next\n",
    "            if self.empty():# You got the last data -> set tail to None \n",
    "                            # (head is already None from prev. line)\n",
    "                self.tail = None\n",
    "            else:# Here the head is always a Node\n",
    "                self.head.previous = None\n",
    "            return ret.data\n",
    "\n",
    "    def empty(self):\n",
    "        # Is queue empty?\n",
    "        counter = self.size()\n",
    "        if counter == 0:\n",
    "            return True\n",
    "        else:\n",
    "            return False\n",
    "   \n",
    "    def full(self):\n",
    "        # Is queue full?\n",
    "        counter = self.size()\n",
    "        if counter == self.maxsize:\n",
    "            return True\n",
    "        else:\n",
    "            return False\n",
    "    \n",
    "    def size(self,):\n",
    "        # What is the current size of a queue?\n",
    "        last_node = self.head\n",
    "        counter = 0\n",
    "        while last_node != None:\n",
    "            counter = counter + 1\n",
    "            last_node = last_node.next\n",
    "        return counter\n",
    "\n",
    "\n",
    "class Node:\n",
    "    def __init__(self, data=None):\n",
    "        self.data = data\n",
    "        self.next = None\n",
    "        self.previous = None\n",
    "\n",
    "    "
   ]
  },
  {
   "cell_type": "code",
   "execution_count": 6,
   "metadata": {},
   "outputs": [],
   "source": [
    "q = Queue(10)\n",
    "q.put(\"a\")\n",
    "q.put(\"b\")\n",
    "q.put(\"c\")"
   ]
  },
  {
   "cell_type": "code",
   "execution_count": 7,
   "metadata": {},
   "outputs": [
    {
     "data": {
      "text/plain": [
       "'a'"
      ]
     },
     "execution_count": 7,
     "metadata": {},
     "output_type": "execute_result"
    }
   ],
   "source": [
    "q.get()"
   ]
  },
  {
   "cell_type": "code",
   "execution_count": 8,
   "metadata": {},
   "outputs": [
    {
     "data": {
      "text/plain": [
       "False"
      ]
     },
     "execution_count": 8,
     "metadata": {},
     "output_type": "execute_result"
    }
   ],
   "source": [
    "q.empty()"
   ]
  },
  {
   "cell_type": "code",
   "execution_count": 9,
   "metadata": {},
   "outputs": [
    {
     "data": {
      "text/plain": [
       "'b'"
      ]
     },
     "execution_count": 9,
     "metadata": {},
     "output_type": "execute_result"
    }
   ],
   "source": [
    "q.get()"
   ]
  },
  {
   "cell_type": "code",
   "execution_count": 10,
   "metadata": {},
   "outputs": [
    {
     "data": {
      "text/plain": [
       "False"
      ]
     },
     "execution_count": 10,
     "metadata": {},
     "output_type": "execute_result"
    }
   ],
   "source": [
    "q.empty()"
   ]
  },
  {
   "cell_type": "code",
   "execution_count": 11,
   "metadata": {},
   "outputs": [
    {
     "data": {
      "text/plain": [
       "'c'"
      ]
     },
     "execution_count": 11,
     "metadata": {},
     "output_type": "execute_result"
    }
   ],
   "source": [
    "q.get()"
   ]
  },
  {
   "cell_type": "code",
   "execution_count": 12,
   "metadata": {},
   "outputs": [
    {
     "data": {
      "text/plain": [
       "True"
      ]
     },
     "execution_count": 12,
     "metadata": {},
     "output_type": "execute_result"
    }
   ],
   "source": [
    "q.empty()"
   ]
  },
  {
   "cell_type": "code",
   "execution_count": 14,
   "metadata": {},
   "outputs": [
    {
     "name": "stdout",
     "output_type": "stream",
     "text": [
      "Working on 0\n",
      "Finished 0\n",
      "Working on 1\n",
      "Finished 1\n",
      "Working on 2\n",
      "Finished 2\n",
      "Working on 3\n",
      "Finished 3\n",
      "Working on 4\n",
      "Finished 4\n",
      "Working on 5\n",
      "Finished 5\n",
      "Working on 6\n",
      "Finished 6\n",
      "Working on 7\n",
      "Finished 7\n",
      "Working on 8\n",
      "Finished 8\n",
      "Working on 9\n",
      "Finished 9\n",
      "All work completed\n"
     ]
    }
   ],
   "source": [
    "def worker():\n",
    "\n",
    "    while not q.empty():\n",
    "        item = q.get()\n",
    "        print(f'Working on {item}')\n",
    "        print(f'Finished {item}')\n",
    "\n",
    "# Send ten task requests to the worker.\n",
    "for item in range(10):\n",
    "    q.put(item)\n",
    "\n",
    "# call the worker\n",
    "worker()\n",
    "print('All work completed')"
   ]
  }
 ],
 "metadata": {
  "kernelspec": {
   "display_name": "Python 3",
   "language": "python",
   "name": "python3"
  },
  "language_info": {
   "codemirror_mode": {
    "name": "ipython",
    "version": 3
   },
   "file_extension": ".py",
   "mimetype": "text/x-python",
   "name": "python",
   "nbconvert_exporter": "python",
   "pygments_lexer": "ipython3",
   "version": "3.12.6"
  }
 },
 "nbformat": 4,
 "nbformat_minor": 2
}
